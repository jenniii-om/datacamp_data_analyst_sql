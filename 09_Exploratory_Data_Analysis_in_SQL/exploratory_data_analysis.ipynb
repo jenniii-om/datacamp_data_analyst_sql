{
 "cells": [
  {
   "cell_type": "markdown",
   "metadata": {},
   "source": [
    "# Creating temporary tables\n",
    "\n",
    "## Syntax\n",
    "\n",
    "### CREATE TEMP TABLE Syntax\n",
    "\n",
    "One way to create a temporary table is with a select query. \n",
    "\n",
    "The results of the query are saved as a table that you can use later. \n",
    "To do this, we preface any select query with the words create temp table, then a name for the table we're creating, and finally the keyword as.\n",
    "This copies the result of the select query into a new table that has no connection to the original table."
   ]
  },
  {
   "cell_type": "code",
   "execution_count": null,
   "metadata": {
    "vscode": {
     "languageId": "sql"
    }
   },
   "outputs": [],
   "source": [
    "-- Create table as\n",
    " CREATE TEMP TABLE new_tablename AS\n",
    " -- Query results to store in the table\n",
    " SELECT column1, column2\n",
    "FROM table;\n"
   ]
  },
  {
   "cell_type": "code",
   "execution_count": null,
   "metadata": {
    "vscode": {
     "languageId": "sql"
    }
   },
   "outputs": [],
   "source": [
    "-- Example\n",
    "CREATE TEMP TABLE top_companies AS\n",
    " SELECT rank,\n",
    "        title\n",
    "   FROM fortune500\n",
    "  WHERE rank <= 10;"
   ]
  },
  {
   "cell_type": "markdown",
   "metadata": {},
   "source": [
    "### SELECT INTO Syntax\n",
    "\n",
    "There are other ways to create temporary tables as well. You may have seen the \"select into\" syntax before. \n",
    "You add a special clause into the middle of a select query to direct the results into a new temp table. \n",
    "\n",
    "In this example, the added clause is the middle line of code. Both of these queries do the same thing, just with different syntax. \n",
    "\n",
    "We're going to use the create table syntax in this course. It's the method recommended by Postgres, and it allows you to use options not available with the \"select into\" syntax."
   ]
  },
  {
   "cell_type": "code",
   "execution_count": null,
   "metadata": {
    "vscode": {
     "languageId": "sql"
    }
   },
   "outputs": [],
   "source": [
    "-- Select existing columns\n",
    " SELECT column1, column2\n",
    "   -- Clause to direct results to a new temp table\n",
    "   INTO TEMP TABLE new_tablename\n",
    "   -- Existing table with exisitng columns\n",
    "   FROM table;"
   ]
  },
  {
   "cell_type": "code",
   "execution_count": null,
   "metadata": {
    "vscode": {
     "languageId": "sql"
    }
   },
   "outputs": [],
   "source": [
    "-- Example\n",
    "\n",
    "INSERT INTO top_companies\n",
    " SELECT rank, title\n",
    "   FROM fortune500\n",
    "  WHERE rank BETWEEN 11 AND 20;"
   ]
  },
  {
   "cell_type": "markdown",
   "metadata": {},
   "source": [
    "### Delete (drop) table\n",
    "\n",
    "To delete a table, use the drop table command. The table will be deleted immediately without warning. Dropping a table can be useful if you made a mistake when creating it or when inserting values into it. Temporary tables will also be deleted automatically when you disconnect from the database. \n",
    "\n",
    "A variation on the drop table command adds the clause if exists before the table name. This means to only try to delete the table after confirming that such a table exists. This variation is often used in scripts because it won't cause an error if the table doesn't exist."
   ]
  },
  {
   "cell_type": "code",
   "execution_count": null,
   "metadata": {
    "vscode": {
     "languageId": "sql"
    }
   },
   "outputs": [],
   "source": [
    "DROP TABLE top_companies;\n",
    "\n",
    "DROP TABLE IF EXISTS top_companies;"
   ]
  }
 ],
 "metadata": {
  "language_info": {
   "name": "python"
  }
 },
 "nbformat": 4,
 "nbformat_minor": 2
}
