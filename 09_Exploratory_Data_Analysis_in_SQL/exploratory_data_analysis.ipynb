{
 "cells": [
  {
   "cell_type": "markdown",
   "metadata": {},
   "source": [
    "# Creating temporary tables\n",
    "\n",
    "## Syntax\n",
    "\n",
    "### CREATE TEMP TABLE Syntax\n",
    "\n",
    "One way to create a temporary table is with a select query. \n",
    "\n",
    "The results of the query are saved as a table that you can use later. \n",
    "To do this, we preface any select query with the words create temp table, then a name for the table we're creating, and finally the keyword as.\n",
    "This copies the result of the select query into a new table that has no connection to the original table."
   ]
  },
  {
   "cell_type": "code",
   "execution_count": null,
   "metadata": {
    "vscode": {
     "languageId": "sql"
    }
   },
   "outputs": [],
   "source": [
    "-- Create table as\n",
    " CREATE TEMP TABLE new_tablename AS\n",
    " -- Query results to store in the table\n",
    " SELECT column1, column2\n",
    "FROM table;\n"
   ]
  },
  {
   "cell_type": "code",
   "execution_count": null,
   "metadata": {
    "vscode": {
     "languageId": "sql"
    }
   },
   "outputs": [],
   "source": [
    "-- Example\n",
    "CREATE TEMP TABLE top_companies AS\n",
    " SELECT rank,\n",
    "        title\n",
    "   FROM fortune500\n",
    "  WHERE rank <= 10;"
   ]
  },
  {
   "cell_type": "markdown",
   "metadata": {},
   "source": [
    "### SELECT INTO Syntax\n",
    "\n",
    "There are other ways to create temporary tables as well. You may have seen the \"select into\" syntax before. \n",
    "You add a special clause into the middle of a select query to direct the results into a new temp table. \n",
    "\n",
    "In this example, the added clause is the middle line of code. Both of these queries do the same thing, just with different syntax. \n",
    "\n",
    "We're going to use the create table syntax in this course. It's the method recommended by Postgres, and it allows you to use options not available with the \"select into\" syntax."
   ]
  },
  {
   "cell_type": "code",
   "execution_count": null,
   "metadata": {
    "vscode": {
     "languageId": "sql"
    }
   },
   "outputs": [],
   "source": [
    "-- Select existing columns\n",
    " SELECT column1, column2\n",
    "   -- Clause to direct results to a new temp table\n",
    "   INTO TEMP TABLE new_tablename\n",
    "   -- Existing table with exisitng columns\n",
    "   FROM table;"
   ]
  },
  {
   "cell_type": "code",
   "execution_count": null,
   "metadata": {
    "vscode": {
     "languageId": "sql"
    }
   },
   "outputs": [],
   "source": [
    "-- Example\n",
    "\n",
    "INSERT INTO top_companies\n",
    " SELECT rank, title\n",
    "   FROM fortune500\n",
    "  WHERE rank BETWEEN 11 AND 20;"
   ]
  },
  {
   "cell_type": "markdown",
   "metadata": {},
   "source": [
    "### Delete (drop) table\n",
    "\n",
    "To delete a table, use the drop table command. The table will be deleted immediately without warning. Dropping a table can be useful if you made a mistake when creating it or when inserting values into it. Temporary tables will also be deleted automatically when you disconnect from the database. \n",
    "\n",
    "A variation on the drop table command adds the clause if exists before the table name. This means to only try to delete the table after confirming that such a table exists. This variation is often used in scripts because it won't cause an error if the table doesn't exist."
   ]
  },
  {
   "cell_type": "code",
   "execution_count": null,
   "metadata": {
    "vscode": {
     "languageId": "sql"
    }
   },
   "outputs": [],
   "source": [
    "DROP TABLE top_companies;\n",
    "\n",
    "DROP TABLE IF EXISTS top_companies;"
   ]
  },
  {
   "cell_type": "markdown",
   "metadata": {},
   "source": [
    "---\n",
    "\n",
    "# Character data types and common issues\n",
    "\n",
    "### PostgreSQL character types\n",
    "\n",
    "`character(n)` or `char(n)`\n",
    "- fixed length `n`\n",
    "- trailing spaces ignored in comparisons \n",
    "\n",
    "`character varying(n)` or `varchar(n)`\n",
    "- variable length up to a maximum of n \n",
    "\n",
    "`text` or `varchar`\n",
    "- unlimited length"
   ]
  },
  {
   "cell_type": "markdown",
   "metadata": {},
   "source": [
    "## Types of text data\n",
    "\n",
    "Regardless of the formal column type, for analysis, we want to distinguish between two types of text data: categorical variables and unstructured text. \n",
    "\n",
    "### Categorical\n",
    "Categorical variables are short strings of text with values that are repeated across multiple rows. \n",
    "<br>They take on a finite and manageable set of distinct values. \n",
    "<br>Days of the week, product categories, and multiple choice survey question responses are all examples of categorical variables. \n",
    "\n",
    "**Examples:**\n",
    ">- Tues, Tuesday, Mon, TH\n",
    ">- shirts, shoes, hats, pants\n",
    ">- satisfied, very satisfied, unsatisfied 0349-938, 1254-001, 5477-651\n",
    ">- red, blue, green, yellow\n",
    "\n",
    "### Unstructured text\n",
    "Unstructured text consists of longer strings of unique values, such as answers to open-ended survey questions or product reviews. \n",
    "<br>To analyze unstructured text, we can create new variables that extract features from the text or indicate whether the text has particular characteristics. \n",
    "<br>For example, we could create binary indicator variables that denote whether the text contains keywords of particular interest.\n",
    "\n",
    "**Examples:**\n",
    ">- I really like this product. I use it every day. It's my favorite color.\n",
    ">- We've redesigned your favorite t-shirt to make it even better. You'll love...\n",
    ">- Four score and seven years ago our fathers brought forth on this continent, a new nation, conceived in Liberty, and dedicated to the proposition that all men are created equal..."
   ]
  },
  {
   "cell_type": "markdown",
   "metadata": {},
   "source": [
    "## Grouping and counting\n",
    "\n",
    "The first things to check with categorical variables are the set of distinct categories and the number of observations, or rows, for each category. \n",
    "We do this with GROUP BY and count. \n",
    "<br>Without ordering the results, it's hard to tell which categories are commonly used and whether any categories should be grouped together."
   ]
  },
  {
   "cell_type": "code",
   "execution_count": null,
   "metadata": {
    "vscode": {
     "languageId": "sql"
    }
   },
   "outputs": [],
   "source": [
    "SELECT category,        -- categorical variable\n",
    "       count(*)         -- count rows for each category\n",
    "  FROM product          -- table\n",
    " GROUP BY category;     -- categorical variable"
   ]
  },
  {
   "cell_type": "markdown",
   "metadata": {
    "vscode": {
     "languageId": "sql"
    }
   },
   "source": [
    "```\n",
    " category | count\n",
    "----------+-------\n",
    " Banana   |     1\n",
    " Apple    |     4\n",
    " apple    |     2\n",
    "  apple   |     1\n",
    " banana   |     3\n",
    "(5 rows)\n",
    "```"
   ]
  },
  {
   "cell_type": "markdown",
   "metadata": {},
   "source": [
    "---\n",
    "\n",
    "# Date/time types and formats\n",
    "\n",
    "### Main types\n",
    "\n",
    "`date`\n",
    "- YYYY-MM-DD\n",
    "- example: 2018-12-30\n",
    "\n",
    "`timestamp`\n",
    "- YYYY-MM-DD HH:MM:SS example: 2018-12-30 13:10:04.3\n",
    "\n",
    "### Intervals\n",
    "`interval` examples: \n",
    "- 6 days 01:48:08\n",
    "- 00:51:03\n",
    "- 1 day 21:57:47\n",
    "- 07:48:46\n",
    "- 406 days 00:31:56"
   ]
  },
  {
   "cell_type": "markdown",
   "metadata": {},
   "source": [
    "### ISO 8601\n",
    "ISO = International Organization for Standards\n",
    "\n",
    "**YYYY-MM-DD HH:MM:SS**\n",
    "\n",
    "Example: 2018-01-05 09:35:15\n",
    "\n",
    "\n",
    "### UTC and timezones\n",
    "UTC = Coordinated Universal Time\n",
    "\n",
    "Timestamp with timezone:\n",
    "**YYYY-MM-DD HH:MM:SS+HH**\n",
    "\n",
    "Example: 2004-10-19 10:23:54+02"
   ]
  }
 ],
 "metadata": {
  "language_info": {
   "name": "python"
  }
 },
 "nbformat": 4,
 "nbformat_minor": 2
}
